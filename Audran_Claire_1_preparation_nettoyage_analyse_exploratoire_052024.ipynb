{
 "cells": [
  {
   "cell_type": "markdown",
   "id": "b74628cf",
   "metadata": {},
   "source": [
    "## 1. Preliminary"
   ]
  },
  {
   "cell_type": "markdown",
   "id": "7a30a241",
   "metadata": {},
   "source": [
    "### 1.1 Libraries"
   ]
  },
  {
   "cell_type": "code",
   "execution_count": 1,
   "id": "e90f388d",
   "metadata": {},
   "outputs": [],
   "source": [
    "import pandas as pd\n",
    "import numpy as np\n",
    "import matplotlib.pyplot as plt\n",
    "import geopy.distance\n",
    "\n",
    "# Options pandas\n",
    "pd.options.mode.chained_assignment = None"
   ]
  },
  {
   "cell_type": "markdown",
   "id": "12a7751b",
   "metadata": {},
   "source": [
    "### 1.2 Data"
   ]
  },
  {
   "cell_type": "code",
   "execution_count": 2,
   "id": "ea375901",
   "metadata": {},
   "outputs": [],
   "source": [
    "def read_csv(filename, delimiter=\";\"):\n",
    "    \"\"\"\n",
    "    Read a CSV file and return a DataFrame.\n",
    "    \n",
    "    Parameters:\n",
    "    - filename (str): Path to the CSV file.\n",
    "    - delimiter (str): Delimiter used in the CSV file (default: \",\").\n",
    "    \n",
    "    Returns:\n",
    "        pd.DataFrame or None: DataFrame containing the data read from the CSV file,\n",
    "                              or None if the file is not found.\n",
    "    \"\"\"\n",
    "    try:\n",
    "        return pd.read_csv(filename, delimiter=delimiter)\n",
    "    except FileNotFoundError:\n",
    "        print(f\"File '{filename}' not found.\")\n",
    "    return None"
   ]
  },
  {
   "cell_type": "code",
   "execution_count": 3,
   "id": "3d9913b7",
   "metadata": {},
   "outputs": [],
   "source": [
    "def clean_data(df):\n",
    "    \"\"\"\n",
    "    Clean the DataFrame by dropping NaN values and handling duplicates.\n",
    "    \n",
    "    Parameters:\n",
    "    - df (pd.DataFrame): Input DataFrame.\n",
    "    \n",
    "    Returns:\n",
    "        pd.DataFrame or None: Cleaned DataFrame, or None if input DataFrame is None.\n",
    "    \"\"\"\n",
    "    if df is None:\n",
    "        return None\n",
    "    df = df.astype(str)\n",
    "    df = df.dropna()\n",
    "    if df.duplicated().any():\n",
    "        print(\"Duplicate values found in the dataset.\")\n",
    "    return df"
   ]
  },
  {
   "cell_type": "code",
   "execution_count": 4,
   "id": "77c1fa2c",
   "metadata": {},
   "outputs": [],
   "source": [
    "def calculate_distance(df, target_coords=(46.227638, 2.213749)):\n",
    "    \"\"\"\n",
    "    Calculate the distance between each location in the DataFrame and a target location.\n",
    "    \n",
    "    Parameters:\n",
    "    - df (pd.DataFrame): DataFrame containing latitude and longitude columns.\n",
    "    - target_coords (tuple): Coordinates (latitude, longitude) of the target location (default: France).\n",
    "    \n",
    "    Returns:\n",
    "        pd.DataFrame or None: DataFrame with distance calculated for each location,\n",
    "                              or None if input DataFrame is None.\n",
    "    \"\"\"\n",
    "    if df is None:\n",
    "        return None\n",
    "    \n",
    "    # Drop rows with NaN values in latitude or longitude columns\n",
    "    df = df.dropna(subset=[\"latitude\", \"longitude\"])\n",
    "    \n",
    "    # Check if any NaN values remain after dropping\n",
    "    if df.isnull().values.any():\n",
    "        print(\"NaN values found after dropping rows with missing coordinates.\")\n",
    "        print(df[df.isnull().any(axis=1)])\n",
    "        return None\n",
    "    \n",
    "    distances = []\n",
    "    for _, row in df.iterrows():\n",
    "        try:\n",
    "            distance = geopy.distance.distance((row.latitude, row.longitude), target_coords).km\n",
    "            distances.append(distance)\n",
    "        except ValueError:\n",
    "            distances.append(np.nan)\n",
    "    \n",
    "    df[\"km_from_target\"] = distances\n",
    "    return df"
   ]
  },
  {
   "cell_type": "code",
   "execution_count": 5,
   "id": "6a6078d9",
   "metadata": {},
   "outputs": [],
   "source": [
    "def clean_column_names(df, column_mapping):\n",
    "    \"\"\"\n",
    "    Clean column names of the DataFrame using the provided mapping.\n",
    "    \n",
    "    Parameters:\n",
    "    - df (pd.DataFrame): Input DataFrame.\n",
    "    - column_mapping (dict): Mapping of old column names to new column names.\n",
    "    \n",
    "    Returns:\n",
    "        pd.DataFrame or None: DataFrame with cleaned column names,\n",
    "                              or None if input DataFrame is None.\n",
    "    \"\"\"\n",
    "    if df is None:\n",
    "        return None\n",
    "    df.rename(columns=column_mapping, inplace=True)\n",
    "    return df"
   ]
  },
  {
   "cell_type": "code",
   "execution_count": 6,
   "id": "d32b5f41",
   "metadata": {},
   "outputs": [],
   "source": [
    "def correct_country_names(datasets, country_name, correct_name):\n",
    "    \"\"\"\n",
    "    Correct inconsistent country names in multiple datasets.\n",
    "    \n",
    "    Args:\n",
    "    - datasets (list): List of DataFrames to correct country names.\n",
    "    - country_name (str): Incorrect country name.\n",
    "    - correct_name (str): Correct country name.\n",
    "    \n",
    "    Returns:\n",
    "        list: List of corrected DataFrames.\n",
    "    \"\"\"\n",
    "    if not isinstance(datasets, list):\n",
    "        raise ValueError(\"Input 'datasets' must be a list of DataFrames.\")\n",
    "    \n",
    "    corrected_datasets = []\n",
    "    for df in datasets:\n",
    "        if 'Zone' in df.columns:\n",
    "            df['Zone'] = df['Zone'].replace({country_name: correct_name})\n",
    "        corrected_datasets.append(df)\n",
    "    return corrected_datasets"
   ]
  },
  {
   "cell_type": "code",
   "execution_count": 7,
   "id": "36990662",
   "metadata": {},
   "outputs": [],
   "source": [
    "def reorganize(df, mappings=None, output_columns=None):\n",
    "    \"\"\"\n",
    "    Reorganize DataFrame with specified mappings and output columns.\n",
    "    \n",
    "    Args:\n",
    "    - df (pd.DataFrame): Input DataFrame.\n",
    "    - mappings (dict): Mapping of old column names to new column names.\n",
    "    - output_columns (list): List of column names to keep in the output DataFrame.\n",
    "    \n",
    "    Returns:\n",
    "        pd.DataFrame: Reorganized DataFrame.\n",
    "    \"\"\"\n",
    "    if mappings:\n",
    "        df = df.rename(columns=mappings)\n",
    "    if output_columns:\n",
    "        df = df[output_columns]\n",
    "    return df"
   ]
  },
  {
   "cell_type": "code",
   "execution_count": 8,
   "id": "fb93026e",
   "metadata": {},
   "outputs": [],
   "source": [
    "def save_csv(df, filename):\n",
    "    \"\"\"\n",
    "    Save the DataFrame to a CSV file.\n",
    "    \n",
    "    Parameters:\n",
    "    - df (pd.DataFrame): DataFrame to be saved.\n",
    "    - filename (str): Path to save the CSV file.\n",
    "    \"\"\"\n",
    "    if df is not None:\n",
    "        df.to_csv(filename, index=False)"
   ]
  },
  {
   "cell_type": "code",
   "execution_count": 9,
   "id": "b5813134",
   "metadata": {},
   "outputs": [],
   "source": [
    "political_stability = read_csv(\"political_stability.csv\")\n",
    "exchange_rate = read_csv(\"exchange_rates.csv\")\n",
    "consumer_price_index = read_csv(\"consumer_price_indices.csv\")\n",
    "population = read_csv(\"Population_2000_2018.csv\")\n",
    "food_availability = read_csv(\"DisponibiliteAlimentaire_2017.csv\")\n",
    "country_coordinates = read_csv(\"lat_long_pays.csv\")\n",
    "emissions_totals = read_csv(\"emissions_totals.csv\")"
   ]
  },
  {
   "cell_type": "code",
   "execution_count": 10,
   "id": "2680a219",
   "metadata": {},
   "outputs": [],
   "source": [
    "political_stability, exchange_rate, consumer_price_index, population, food_availability, country_coordinates, emissions_totals = correct_country_names(\n",
    "    [political_stability, exchange_rate, consumer_price_index, population, food_availability, country_coordinates, emissions_totals],\n",
    "    'Sudan (former)',\n",
    "    'Sudan'\n",
    ")\n",
    "political_stability, exchange_rate, consumer_price_index, population, food_availability, country_coordinates, emissions_totals = correct_country_names(\n",
    "    [political_stability, exchange_rate, consumer_price_index, population, food_availability, country_coordinates, emissions_totals],\n",
    "    'Sudan (ex)',\n",
    "    'Sudan'\n",
    ")"
   ]
  },
  {
   "cell_type": "code",
   "execution_count": 11,
   "id": "0db5a238",
   "metadata": {},
   "outputs": [],
   "source": [
    "political_stability = clean_data(political_stability)\n",
    "exchange_rate = clean_data(exchange_rate)\n",
    "consumer_price_index = clean_data(consumer_price_index)\n",
    "population = clean_data(population)\n",
    "food_availability = clean_data(food_availability)\n",
    "country_coordinates = clean_data(country_coordinates)\n",
    "country_coordinates = calculate_distance(country_coordinates)\n",
    "emissions_totals = clean_data(emissions_totals)"
   ]
  },
  {
   "cell_type": "code",
   "execution_count": 12,
   "id": "e188feee",
   "metadata": {},
   "outputs": [],
   "source": [
    "column_mappings = {\n",
    "    \"name\": \"Zone\",\n",
    "    \"latitude\": \"Latitude\",\n",
    "    \"longitude\": \"Longitude\",\n",
    "    \"km_from_target\": \"Km - Par rapport à la France\"\n",
    "    # Add other mappings as needed\n",
    "}"
   ]
  },
  {
   "cell_type": "code",
   "execution_count": 13,
   "id": "cc5d70b6",
   "metadata": {},
   "outputs": [],
   "source": [
    "population = reorganize(population, output_columns=[\"Zone\", \"Année\", \"Valeur\"])\n",
    "food_availability = reorganize(food_availability, output_columns=[\"Zone\", \"Année\", \"Élément\", \"Produit\", \"Valeur\"])\n",
    "country_coordinates = reorganize(country_coordinates, mappings=column_mappings)\n",
    "exchange_rate = reorganize(exchange_rate, mappings={\"Area\": \"Zone\", \"Currency\": \"Devise\", \"Element\": \"Unité\", \"Year\": \"Année\", \"Value\": \"Valeur\"}, output_columns=[\"Zone\", \"Devise\", \"Année\", \"Unité\", \"Valeur\"])\n",
    "consumer_price_index = reorganize(consumer_price_index, mappings={\"Area\": \"Zone\", \"Year\": \"Année\", \"Months\": \"Mois\", \"Item\": \"Objet\", \"Value\": \"Valeur\"}, output_columns=[\"Zone\", \"Année\", \"Mois\", \"Objet\", \"Valeur\"])\n",
    "political_stability = reorganize(political_stability, mappings={\"Country\": \"Zone\", \"Year\": \"Année\", \"Political_Stability\": \"Stabilité Politique\", \"Granularity\": \"Granularité\"}, output_columns=[\"Zone\", \"Année\", \"Stabilité Politique\"])\n",
    "emissions_totals = reorganize(emissions_totals, mappings={\"Area\": \"Zone\", \"Element\": \"Elément\", \"Year\": \"Année\", \"Item\": \"Objet\", \"Value\": \"Valeur\"}, output_columns=[\"Zone\", \"Elément\", \"Objet\", \"Année\", \"Valeur\"])"
   ]
  },
  {
   "cell_type": "markdown",
   "id": "15c714cf",
   "metadata": {},
   "source": [
    "## 3. Data exploration"
   ]
  },
  {
   "cell_type": "markdown",
   "id": "fa613356",
   "metadata": {},
   "source": [
    "### 3.1 Population"
   ]
  },
  {
   "cell_type": "code",
   "execution_count": 14,
   "id": "dded0e91",
   "metadata": {},
   "outputs": [],
   "source": [
    "def explore_population_year(population, year=\"2017\"):\n",
    "    \"\"\"\n",
    "    Explore population for a specific year and return the DataFrame with top countries.\n",
    "    \n",
    "    Args:\n",
    "    - data (DataFrame): DataFrame containing population data.\n",
    "    - year (str): Year for which population data is to be explored.\n",
    "    \n",
    "    Returns:\n",
    "        DataFrame: Population data for the specified year.\n",
    "    \"\"\"\n",
    "    population_year = population[population[\"Année\"] == year]\n",
    "    population_by_country = population_year.groupby(\"Zone\").sum()[\"Valeur\"].reset_index()\n",
    "    population_by_country.rename(columns={\"Valeur\": \"Population\"}, inplace=True)\n",
    "    \n",
    "    # Print results\n",
    "    print(f\"Population for the year {year}:\")\n",
    "    print(population_by_country.head().to_string(index=False), \"\\n[..]\")\n",
    "    \n",
    "    return population_by_country"
   ]
  },
  {
   "cell_type": "code",
   "execution_count": 15,
   "id": "f79b9989",
   "metadata": {},
   "outputs": [
    {
     "name": "stdout",
     "output_type": "stream",
     "text": [
      "Population for the year 2017:\n",
      "          Zone Population\n",
      "   Afghanistan  36296.113\n",
      "       Albania   2884.169\n",
      "       Algeria  41389.189\n",
      "American Samoa      55.62\n",
      "       Andorra     77.001 \n",
      "[..]\n"
     ]
    }
   ],
   "source": [
    "population_result = explore_population_year(population)"
   ]
  },
  {
   "cell_type": "code",
   "execution_count": 16,
   "id": "9050b744",
   "metadata": {},
   "outputs": [],
   "source": [
    "def explore_population_growth(population):\n",
    "    \"\"\"\n",
    "    Explore population growth and print top and bottom countries.\n",
    "\n",
    "    Args:\n",
    "    - data (DataFrame): DataFrame containing population data.\n",
    "    \"\"\"\n",
    "    # Pivot table to analyze population growth over years\n",
    "    pop_evol = population.pivot_table(index=\"Zone\", columns=\"Année\", values=\"Valeur\")\n",
    "\n",
    "    # Calculate percentage change in population for each country\n",
    "    pop_evol_pct_change = pop_evol.pct_change(axis='columns')\n",
    "\n",
    "    # Calculate average population growth over the years for each country\n",
    "    pop_evol[\"Change Average\"] = pop_evol_pct_change.mean(axis=1)\n",
    "\n",
    "    # Sort the DataFrame by the 'Change Average' column\n",
    "    pop_evol_sorted = pop_evol[\"Change Average\"].sort_values(ascending=False)\n",
    "\n",
    "    # Extract the top and bottom countries\n",
    "    top_growth_countries = pop_evol_sorted.head(3)\n",
    "    bottom_growth_countries = pop_evol_sorted.tail(3)\n",
    "\n",
    "    # Print results\n",
    "    print(\"Countries with the highest population growth:\")\n",
    "    for country, growth in top_growth_countries.iteritems():\n",
    "        print(f\"{country}: {growth:.2f}\")\n",
    "\n",
    "    print(\"\\nCountries with the lowest population growth:\")\n",
    "    for country, growth in bottom_growth_countries.iteritems():\n",
    "        print(f\"{country}: {growth:.2f}\")\n",
    "        \n",
    "    return pop_evol_sorted"
   ]
  },
  {
   "cell_type": "code",
   "execution_count": 17,
   "id": "f1d010ae",
   "metadata": {},
   "outputs": [
    {
     "name": "stdout",
     "output_type": "stream",
     "text": [
      "Countries with the highest population growth:\n",
      "Qatar: 0.09\n",
      "United Arab Emirates: 0.07\n",
      "Bahrain: 0.05\n",
      "\n",
      "Countries with the lowest population growth:\n",
      "Latvia: -0.01\n",
      "Lithuania: -0.01\n",
      "Wallis and Futuna: -0.01\n"
     ]
    }
   ],
   "source": [
    "population_growth_result = explore_population_growth(population)"
   ]
  },
  {
   "cell_type": "markdown",
   "id": "6899a4ac",
   "metadata": {},
   "source": [
    "### 3.2 Food Availability"
   ]
  },
  {
   "cell_type": "code",
   "execution_count": 18,
   "id": "d2a3f829",
   "metadata": {},
   "outputs": [],
   "source": [
    "def explore_poultry_availability(food_availability):\n",
    "    \"\"\"\n",
    "    Explore poultry availability and print top and bottom countries.\n",
    "    \n",
    "    Args:\n",
    "    - data (DataFrame): DataFrame containing food availability data.\n",
    "    \"\"\"\n",
    "    \n",
    "    # Filter production data for the year 2017\n",
    "    poultry_availability_2017 = food_availability[(food_availability[\"Année\"] == \"2017\") & \n",
    "                                                   (food_availability[\"Élément\"] == \"Disponibilité alimentaire (Kcal/personne/jour)\") & \n",
    "                                                   (food_availability[\"Produit\"] == \"Viande de Volailles\")]\n",
    "    \n",
    "    # Group poultry availability by country and sum the values\n",
    "    poultry_per_country = poultry_availability_2017.groupby(\"Zone\").sum()[\"Valeur\"].reset_index() \n",
    "    \n",
    "    # Convert \"Valeur\" column to numeric type\n",
    "    poultry_per_country[\"Valeur\"] = pd.to_numeric(poultry_per_country[\"Valeur\"])\n",
    "    \n",
    "    # Sort the DataFrame by the 'Valeur' column\n",
    "    poultry_per_country_sorted = poultry_per_country.sort_values(by=\"Valeur\", ascending=False).reset_index(drop=True)\n",
    "\n",
    "    # Extract the top and bottom countries\n",
    "    top_poultry_countries = poultry_per_country_sorted.head(3)\n",
    "    bottom_poultry_countries = poultry_per_country_sorted.tail(3)\n",
    "\n",
    "    # Print results\n",
    "    print(\"Countries with the highest poultry availability:\")\n",
    "    for country, value in zip(top_poultry_countries[\"Zone\"], top_poultry_countries[\"Valeur\"]):\n",
    "        print(f\"{country}: {value}\")\n",
    "\n",
    "    print(\"\\nCountries with the lowest or no poultry availability:\")\n",
    "    for country, value in zip(bottom_poultry_countries[\"Zone\"], bottom_poultry_countries[\"Valeur\"]):\n",
    "        print(f\"{country}: {value}\")\n",
    "\n",
    "    return poultry_per_country_sorted"
   ]
  },
  {
   "cell_type": "code",
   "execution_count": 19,
   "id": "d3e80303",
   "metadata": {
    "scrolled": true
   },
   "outputs": [
    {
     "name": "stdout",
     "output_type": "stream",
     "text": [
      "Countries with the highest poultry availability:\n",
      "Saint Vincent and the Grenadines: 243.0\n",
      "Saint Lucia: 241.0\n",
      "Israel: 234.0\n",
      "\n",
      "Countries with the lowest or no poultry availability:\n",
      "Nigeria: 2.0\n",
      "Kenya: 2.0\n",
      "Ethiopia: 0.0\n"
     ]
    }
   ],
   "source": [
    "poultry_availability_result = explore_poultry_availability(food_availability)"
   ]
  },
  {
   "cell_type": "code",
   "execution_count": 20,
   "id": "f983bba7",
   "metadata": {},
   "outputs": [],
   "source": [
    "def explore_poultry_availability(food_availability, population_result):\n",
    "    \"\"\"\n",
    "    Explore poultry availability per capita and print top and bottom countries.\n",
    "    \n",
    "    Args:\n",
    "    - food_availability (DataFrame): DataFrame containing food availability data.\n",
    "    - population_by_country (DataFrame): DataFrame containing population data for each country.\n",
    "    \"\"\"\n",
    "    # Filter poultry availability data\n",
    "    poultry_availability_2017 = food_availability[(food_availability[\"Année\"] == \"2017\") & \n",
    "                                                   (food_availability[\"Élément\"] == \"Disponibilité alimentaire (Kcal/personne/jour)\") & \n",
    "                                                   (food_availability[\"Produit\"] == \"Viande de Volailles\")]\n",
    "    \n",
    "    # Group poultry availability by country and sum the values\n",
    "    poultry_per_country = poultry_availability_2017.groupby(\"Zone\").sum()[\"Valeur\"].reset_index()\n",
    "\n",
    "    # Merge poultry availability and population data\n",
    "    merged_data = pd.merge(poultry_availability_result, population_result, on=\"Zone\", how=\"right\")\n",
    "    \n",
    "    # Rename columns\n",
    "    merged_data.rename(columns={\"Valeur\": \"Poultry Availability\"}, inplace=True)\n",
    "    \n",
    "    # Convert columns to numeric\n",
    "    merged_data[\"Poultry Availability\"] = pd.to_numeric(merged_data[\"Poultry Availability\"], errors=\"coerce\")\n",
    "    merged_data[\"Population\"] = pd.to_numeric(merged_data[\"Population\"], errors=\"coerce\")\n",
    "    \n",
    "    # Drop rows where poultry availability is NaN\n",
    "    merged_data.dropna(subset=[\"Poultry Availability\"], inplace=True)\n",
    "\n",
    "    # Calculate availability per capita\n",
    "    merged_data[\"Poultry_Availability_per_Capita\"] = merged_data[\"Poultry Availability\"] / merged_data[\"Population\"]\n",
    "    \n",
    "    # Sort by availability per capita\n",
    "    sorted_data = merged_data.sort_values(by=\"Poultry_Availability_per_Capita\", ascending=False).reset_index(drop=True)\n",
    "    \n",
    "    # Extract the top and bottom countries\n",
    "    top_poultry_countries = sorted_data.head(3)\n",
    "    bottom_poultry_countries = sorted_data[sorted_data[\"Poultry_Availability_per_Capita\"] > 0.00].tail(3)\n",
    "\n",
    "    zero_poultry_countries = sorted_data[sorted_data[\"Poultry_Availability_per_Capita\"] == 0.00]\n",
    "\n",
    "    # Print results\n",
    "    print(\"Countries with highest poultry availability per capita:\")\n",
    "    for index, row in top_poultry_countries.iterrows():\n",
    "        print(f\"{row['Zone']}: {row['Poultry_Availability_per_Capita']:.2f}\")\n",
    "\n",
    "    print(\"\\nCountries with lowest poultry availability per capita:\")\n",
    "    for index, row in bottom_poultry_countries.iterrows():\n",
    "        print(f\"{row['Zone']}: {row['Poultry_Availability_per_Capita']:.2f}\")\n",
    "    \n",
    "    print(\"\\nCountries with no poultry availability per capita:\")\n",
    "    for index, row in zero_poultry_countries.iterrows():\n",
    "        print(f\"{row['Zone']}: {row['Poultry_Availability_per_Capita']:.2f}\")\n",
    "        \n",
    "    return sorted_data"
   ]
  },
  {
   "cell_type": "code",
   "execution_count": 21,
   "id": "7bacfd39",
   "metadata": {
    "scrolled": true
   },
   "outputs": [
    {
     "name": "stdout",
     "output_type": "stream",
     "text": [
      "Countries with highest poultry availability per capita:\n",
      "Saint Kitts and Nevis: 3.65\n",
      "Antigua and Barbuda: 2.44\n",
      "Saint Vincent and the Grenadines: 2.21\n",
      "\n",
      "Countries with lowest poultry availability per capita:\n",
      "Kenya: 0.00\n",
      "Nigeria: 0.00\n",
      "India: 0.00\n",
      "\n",
      "Countries with no poultry availability per capita:\n",
      "Ethiopia: 0.00\n"
     ]
    }
   ],
   "source": [
    "poultry_availability_capita_result = explore_poultry_availability(food_availability, population_result)"
   ]
  },
  {
   "cell_type": "code",
   "execution_count": 22,
   "id": "7b87137d",
   "metadata": {},
   "outputs": [],
   "source": [
    "def poultry_import_by_country(food_availability):\n",
    "    \"\"\"\n",
    "    Calculate poultry imports by country.\n",
    "    \n",
    "    Args:\n",
    "    - data (DataFrame): DataFrame containing food availability data.\n",
    "        \n",
    "    Returns:\n",
    "        DataFrame: Poultry imports by country.\n",
    "    \"\"\"\n",
    "    # Filter imports data\n",
    "    poultry_imports = food_availability[(food_availability[\"Année\"] == \"2017\") & (food_availability[\"Élément\"] == \"Importations - Quantité\") & (food_availability[\"Produit\"] == \"Viande de Volailles\")]\n",
    "    \n",
    "    # Group imports by country and sum the values\n",
    "    imports_by_country = poultry_imports.groupby(\"Zone\").sum()[\"Valeur\"].reset_index()\n",
    "    \n",
    "    # Convert \"Valeur\" column to numeric\n",
    "    imports_by_country[\"Valeur\"] = pd.to_numeric(imports_by_country[\"Valeur\"])\n",
    "    \n",
    "    imports_by_country = imports_by_country.sort_values(\"Valeur\", ascending=False).reset_index(drop=True)\n",
    "    \n",
    "    # Extract the top and bottom countries\n",
    "    top_imports_countries = imports_by_country.head(3)\n",
    "    bottom_imports_countries = imports_by_country[imports_by_country[\"Valeur\"] > 0.00].tail(3)\n",
    "    \n",
    "    zero_imports_countries = imports_by_country[imports_by_country[\"Valeur\"] == 0.00]\n",
    "\n",
    "    # Print results\n",
    "    print(\"Countries with the highest poultry imports:\")\n",
    "    for index, row in top_imports_countries.iterrows():\n",
    "        print(f\"{row['Zone']}: {row['Valeur']:.2f}\")\n",
    "\n",
    "    print(\"\\nCountries with the lowest poultry imports:\")\n",
    "    for index, row in bottom_imports_countries.iterrows():\n",
    "        print(f\"{row['Zone']}: {row['Valeur']:.2f}\")\n",
    "        \n",
    "    print(\"\\nCountries with no poultry imports:\")\n",
    "    for index, row in zero_imports_countries.iterrows():\n",
    "        print(f\"{row['Zone']}: {row['Valeur']:.2f}\")\n",
    "            \n",
    "    return imports_by_country"
   ]
  },
  {
   "cell_type": "code",
   "execution_count": 23,
   "id": "2f0e1276",
   "metadata": {
    "scrolled": false
   },
   "outputs": [
    {
     "name": "stdout",
     "output_type": "stream",
     "text": [
      "Countries with the highest poultry imports:\n",
      "Japan: 1069.00\n",
      "Mexico: 972.00\n",
      "China - Hong-Kong: 907.00\n",
      "\n",
      "Countries with the lowest poultry imports:\n",
      "Bolivia (Plurinational State of): 1.00\n",
      "Chad: 1.00\n",
      "Indonesia: 1.00\n",
      "\n",
      "Countries with no poultry imports:\n",
      "Ecuador: 0.00\n",
      "Kenya: 0.00\n",
      "Israel: 0.00\n",
      "Madagascar: 0.00\n",
      "Malawi: 0.00\n",
      "Guyana: 0.00\n",
      "Bangladesh: 0.00\n",
      "Burkina Faso: 0.00\n",
      "Uganda: 0.00\n",
      "Senegal: 0.00\n",
      "Nepal: 0.00\n",
      "Democratic People's Republic of Korea: 0.00\n",
      "Nigeria: 0.00\n",
      "Belize: 0.00\n",
      "India: 0.00\n",
      "Sri Lanka: 0.00\n",
      "Cameroon: 0.00\n",
      "Rwanda: 0.00\n",
      "Tunisia: 0.00\n"
     ]
    }
   ],
   "source": [
    "poultry_imports_result = poultry_import_by_country(food_availability)"
   ]
  },
  {
   "cell_type": "code",
   "execution_count": 24,
   "id": "383a9853",
   "metadata": {},
   "outputs": [],
   "source": [
    "def poultry_production_by_country(food_availability):\n",
    "    \"\"\"\n",
    "    Calculate poultry production by country.\n",
    "    \n",
    "    Args:\n",
    "    - data (DataFrame): DataFrame containing food availability data.\n",
    "        \n",
    "    Returns:\n",
    "        DataFrame: Poultry production by country.\n",
    "    \"\"\"\n",
    "    # Filter production data\n",
    "    production_poultry = food_availability[(food_availability[\"Année\"] == \"2017\") & (food_availability[\"Élément\"] == \"Production\") & (food_availability[\"Produit\"] == \"Viande de Volailles\")]\n",
    "    \n",
    "    # Group production by country and sum the values\n",
    "    production_by_country = production_poultry.groupby(\"Zone\").sum()[\"Valeur\"].reset_index()\n",
    "    \n",
    "    # Convert \"Valeur\" column to numeric\n",
    "    production_by_country[\"Valeur\"] = pd.to_numeric(production_by_country[\"Valeur\"])\n",
    "    \n",
    "    production_by_country = production_by_country.sort_values(\"Valeur\", ascending=False).reset_index(drop=True)\n",
    "    \n",
    "    # Extract the top and bottom countries\n",
    "    top_production_countries = production_by_country.head(3)\n",
    "    bottom_production_countries = production_by_country[production_by_country[\"Valeur\"] > 0.00].tail(3).tail(3)\n",
    "    \n",
    "    zero_production_countries = production_by_country[production_by_country[\"Valeur\"] == 0.00]\n",
    "\n",
    "    # Print results\n",
    "    print(\"Countries with the highest poultry production:\")\n",
    "    for index, row in top_production_countries.iterrows():\n",
    "        print(f\"{row['Zone']}: {row['Valeur']:.2f}\")\n",
    "\n",
    "    print(\"\\nCountries with the lowest production:\")\n",
    "    for index, row in bottom_production_countries.iterrows():\n",
    "        print(f\"{row['Zone']}: {row['Valeur']:.2f}\")\n",
    "            \n",
    "    print(\"\\nCountries with no poultry production:\")\n",
    "    for index, row in zero_production_countries.iterrows():\n",
    "        print(f\"{row['Zone']}: {row['Valeur']:.2f}\")\n",
    "        \n",
    "    return production_by_country"
   ]
  },
  {
   "cell_type": "code",
   "execution_count": 25,
   "id": "a9cb88de",
   "metadata": {},
   "outputs": [
    {
     "name": "stdout",
     "output_type": "stream",
     "text": [
      "Countries with the highest poultry production:\n",
      "United States of America: 21914.00\n",
      "China: 18236.00\n",
      "Brazil: 14201.00\n",
      "\n",
      "Countries with the lowest production:\n",
      "Kiribati: 1.00\n",
      "French Polynesia: 1.00\n",
      "Sao Tome and Principe: 1.00\n",
      "\n",
      "Countries with no poultry production:\n",
      "Antigua and Barbuda: 0.00\n",
      "Solomon Islands: 0.00\n",
      "Saint Kitts and Nevis: 0.00\n",
      "Mongolia: 0.00\n",
      "Saint Vincent and the Grenadines: 0.00\n",
      "Luxembourg: 0.00\n",
      "Dominica: 0.00\n",
      "Samoa: 0.00\n"
     ]
    }
   ],
   "source": [
    "poultry_production_result = poultry_production_by_country(food_availability)"
   ]
  },
  {
   "cell_type": "code",
   "execution_count": 26,
   "id": "4000ff7d",
   "metadata": {},
   "outputs": [],
   "source": [
    "def poultry_domestic_availability(food_availability):\n",
    "    \"\"\"\n",
    "    Calculate domestic availability of poultry.\n",
    "    \n",
    "    Args:\n",
    "    - data (DataFrame): DataFrame containing food availability data.\n",
    "        \n",
    "    Returns:\n",
    "        DataFrame: Domestic availability of poultry by country.\n",
    "    \"\"\"\n",
    "    # Filter domestic availability data \n",
    "    domestic_availability = food_availability[(food_availability[\"Année\"] == \"2017\") & (food_availability[\"Élément\"] == \"Disponibilité intérieure\") & (food_availability[\"Produit\"] == \"Viande de Volailles\")]\n",
    "    \n",
    "    # Group domestic availability by country and sum the values\n",
    "    domestic_availability_by_country = domestic_availability.groupby(\"Zone\").sum()[\"Valeur\"].reset_index()\n",
    "    \n",
    "    # Convert \"Valeur\" column to numeric\n",
    "    domestic_availability_by_country[\"Valeur\"] = pd.to_numeric(domestic_availability_by_country[\"Valeur\"])\n",
    "    \n",
    "    domestic_availability_by_country = domestic_availability_by_country.sort_values(\"Valeur\", ascending=False).reset_index(drop=True)\n",
    "    \n",
    "    # Extract the top and bottom countries\n",
    "    top_domestic_countries = domestic_availability_by_country.head(3)\n",
    "    bottom_domestic_countries = domestic_availability_by_country.tail(3)\n",
    "    \n",
    "    # Print results\n",
    "    print(\"Countries with the highest poultry domestic availability:\")\n",
    "    for index, row in top_domestic_countries.iterrows():\n",
    "        print(f\"{row['Zone']}: {row['Valeur']:.2f}\")\n",
    "        \n",
    "    print(\"\\nCountries with the lowest or no poultry domestic availability:\")\n",
    "    for index, row in bottom_domestic_countries.iterrows():\n",
    "        print(f\"{row['Zone']}: {row['Valeur']:.2f}\")\n",
    "        \n",
    "    return domestic_availability_by_country"
   ]
  },
  {
   "cell_type": "code",
   "execution_count": 27,
   "id": "a75e81fa",
   "metadata": {},
   "outputs": [
    {
     "name": "stdout",
     "output_type": "stream",
     "text": [
      "Countries with the highest poultry domestic availability:\n",
      "United States of America: 18266.00\n",
      "China: 18161.00\n",
      "Brazil: 9982.00\n",
      "\n",
      "Countries with the lowest or no poultry domestic availability:\n",
      "Solomon Islands: 3.00\n",
      "Sao Tome and Principe: 2.00\n",
      "Kiribati: 2.00\n"
     ]
    }
   ],
   "source": [
    "poultry_domestic_result = poultry_domestic_availability(food_availability)"
   ]
  },
  {
   "cell_type": "markdown",
   "id": "c66f5db5",
   "metadata": {},
   "source": [
    "### 3.3 Exchange Rate"
   ]
  },
  {
   "cell_type": "code",
   "execution_count": 28,
   "id": "0bc67542",
   "metadata": {},
   "outputs": [],
   "source": [
    "def exchange_rate_by_country(exchange_rate):\n",
    "    \"\"\"\n",
    "    Calculate exchange rates by country.\n",
    "    \n",
    "    Args:\n",
    "    - data (DataFrame): DataFrame containing exchange rate data.\n",
    "        \n",
    "    Returns:\n",
    "        DataFrame: Exchange rates by country.\n",
    "    \"\"\"\n",
    "    # Filter the DataFrame for the year 2017 and local currency units per USD\n",
    "    exchange_rate_2017 = exchange_rate[(exchange_rate[\"Année\"] == \"2017\") & (exchange_rate[\"Unité\"] == \"Local currency units per USD\")]\n",
    "\n",
    "    # Group by country and sum the exchange rates\n",
    "    exchange_rate_by_country = exchange_rate_2017.groupby(by=\"Zone\").sum()[\"Valeur\"].reset_index()\n",
    "\n",
    "    # Convert \"Valeur\" column to numeric\n",
    "    exchange_rate_by_country[\"Valeur\"] = pd.to_numeric(exchange_rate_by_country[\"Valeur\"])\n",
    "    \n",
    "    # Sort the DataFrame by exchange rate in descending order\n",
    "    exchange_rate_by_country = exchange_rate_by_country.sort_values(\"Valeur\", ascending=False).reset_index(drop=True)\n",
    "    \n",
    "    # Compared to EUR\n",
    "    exchange_rate_by_country[\"Compared_with_EUR\"] = exchange_rate_by_country[\"Valeur\"]*0.92\n",
    "\n",
    "    # Extract the top and bottom countries\n",
    "    top_exchange_rate_by_country = exchange_rate_by_country.head(3)\n",
    "    bottom_exchange_rate_by_country = exchange_rate_by_country.tail(3)\n",
    "       \n",
    "    # Print results\n",
    "    print(\"Countries with the highest exchange rate for the year 2017:\")\n",
    "    for index, row in top_exchange_rate_by_country.iterrows():\n",
    "        print(f\"{row['Zone']}: {row['Compared_with_EUR']:.2f}\")\n",
    "        \n",
    "    print(\"\\nCountries with the lowest exchange rate for the year 2017:\")\n",
    "    for index, row in bottom_exchange_rate_by_country.iterrows():\n",
    "        print(f\"{row['Zone']}: {row['Compared_with_EUR']:.2f}\")\n",
    "        \n",
    "    return exchange_rate_by_country"
   ]
  },
  {
   "cell_type": "code",
   "execution_count": 29,
   "id": "22341e12",
   "metadata": {},
   "outputs": [
    {
     "name": "stdout",
     "output_type": "stream",
     "text": [
      "Countries with the highest exchange rate for the year 2017:\n",
      "Iran (Islamic Republic of): 30568.19\n",
      "Somalia: 21250.15\n",
      "Viet Nam: 20580.48\n",
      "\n",
      "Countries with the lowest exchange rate for the year 2017:\n",
      "Oman: 0.35\n",
      "Bahrain: 0.35\n",
      "Kuwait: 0.28\n"
     ]
    }
   ],
   "source": [
    "exchange_rate_result = exchange_rate_by_country(exchange_rate)"
   ]
  },
  {
   "cell_type": "code",
   "execution_count": 30,
   "id": "39a680c4",
   "metadata": {},
   "outputs": [],
   "source": [
    "def exchange_rate_evolution(exchange_rate):\n",
    "    \"\"\"\n",
    "    Calculate the evolution of exchange rates.\n",
    "    \n",
    "    Args:\n",
    "    - data (DataFrame): DataFrame containing exchange rate data.\n",
    "        \n",
    "    Returns:\n",
    "        DataFrame: Evolution of exchange rates by country.\n",
    "    \"\"\"\n",
    "    # Select only local currency units per USD\n",
    "    exchange_rate = exchange_rate[exchange_rate[\"Unité\"] == \"Local currency units per USD\"]\n",
    "    \n",
    "    # Convert columns to numeric data type\n",
    "    exchange_rate[\"Valeur\"] = pd.to_numeric(exchange_rate[\"Valeur\"], errors=\"coerce\")\n",
    "    \n",
    "    # Compared to EUR\n",
    "    exchange_rate[\"Compared_with_EUR\"] = exchange_rate[\"Valeur\"]*0.92\n",
    "    \n",
    "    # Group by country and year and select the value column\n",
    "    exchange_rate_grouped = exchange_rate.groupby([\"Zone\", \"Année\"])[\"Compared_with_EUR\"].first().unstack()\n",
    "    \n",
    "    # Calculate percentage change over years\n",
    "    exchange_rate_evol = exchange_rate_grouped.pct_change(axis='columns')\n",
    "    \n",
    "    # Calculate average evolution\n",
    "    exchange_rate_evol[\"Change Average\"] = exchange_rate_evol.mean(axis=1)\n",
    "\n",
    "    # Reset index to avoid losing country names\n",
    "    exchange_rate_evol = exchange_rate_evol.reset_index()\n",
    "    \n",
    "    # Remove infinite values\n",
    "    exchange_rate_evol = exchange_rate_evol.replace(np.inf, np.nan)\n",
    "    \n",
    "    # Keep only the \"Change Average\" column\n",
    "    exchange_rate_evol = exchange_rate_evol[[\"Zone\", \"Change Average\"]]\n",
    "    \n",
    "    # Sort by average evolution\n",
    "    exchange_rate_evol = exchange_rate_evol.sort_values(\"Change Average\", ascending=False).reset_index(drop=True)\n",
    "    \n",
    "    # Extract the top and bottom countries\n",
    "    top_exchange_rate_countries = exchange_rate_evol.head(3)\n",
    "    bottom_exchange_rate_countries = exchange_rate_evol.tail(3)\n",
    "    \n",
    "    # Print results\n",
    "    print(\"Countries with the highest exchange rate evolution :\")\n",
    "    for index, row in top_exchange_rate_countries.iterrows():\n",
    "        print(f\"{row['Zone']}: {row['Change Average']:.2f}\")\n",
    "        \n",
    "    print(\"\\nCountries with the lowest exchange rate evolution:\")\n",
    "    for index, row in bottom_exchange_rate_countries.iterrows():\n",
    "        print(f\"{row['Zone']}: {row['Change Average']:.2f}\")\n",
    "        \n",
    "    return exchange_rate_evol"
   ]
  },
  {
   "cell_type": "code",
   "execution_count": 31,
   "id": "c3f29ca4",
   "metadata": {},
   "outputs": [
    {
     "name": "stdout",
     "output_type": "stream",
     "text": [
      "Countries with the highest exchange rate evolution :\n",
      "Zimbabwe: 4094303802.32\n",
      "Myanmar: 6.52\n",
      "Democratic People's Republic of Korea: 3.80\n",
      "\n",
      "Countries with the lowest exchange rate evolution:\n",
      "Lithuania: -0.06\n",
      "Greece: -0.07\n",
      "Slovakia: -0.08\n"
     ]
    }
   ],
   "source": [
    "exchange_rate_evolution_result = exchange_rate_evolution(exchange_rate)"
   ]
  },
  {
   "cell_type": "markdown",
   "id": "595b32ec",
   "metadata": {},
   "source": [
    "### 3.4 Consumer Price Index"
   ]
  },
  {
   "cell_type": "code",
   "execution_count": 32,
   "id": "596b572b",
   "metadata": {},
   "outputs": [],
   "source": [
    "def cpi_by_country(consumer_price_index):\n",
    "    \"\"\"\n",
    "    Calculate the Consumer Price Index (CPI) by country.\n",
    "    \n",
    "    Args:\n",
    "    - data (DataFrame): DataFrame containing CPI data.\n",
    "        \n",
    "    Returns:\n",
    "        DataFrame: CPI by country.\n",
    "    \"\"\"\n",
    "    # Filter the DataFrame for the year 2017\n",
    "    cpi_2017 = consumer_price_index[(consumer_price_index[\"Année\"] == \"2017\") & (consumer_price_index[\"Objet\"] == \"Food price inflation\")]\n",
    "    \n",
    "    # Convert columns to numeric data type\n",
    "    cpi_2017[\"Valeur\"] = pd.to_numeric(cpi_2017[\"Valeur\"], errors=\"coerce\")\n",
    "    \n",
    "    # Group by country and mean the CPI values\n",
    "    cpi_by_country = cpi_2017.groupby(\"Zone\")[\"Valeur\"].mean().reset_index()\n",
    "    \n",
    "    # Sort the DataFrame by CPI in descending order\n",
    "    cpi_by_country = cpi_by_country.sort_values(\"Valeur\", ascending=False).reset_index(drop=True)\n",
    "\n",
    "    # Extract the top and bottom countries\n",
    "    top_cpi_countries = cpi_by_country.head(3)\n",
    "    bottom_cpi_countries = cpi_by_country.tail(3)\n",
    "    \n",
    "    # Print results\n",
    "    print(\"Countries most impacted by inflation for the year 2017:\")\n",
    "    for index, row in top_cpi_countries.iterrows():\n",
    "        print(f\"{row['Zone']}: {row['Valeur']:.2f}\")\n",
    "        \n",
    "    print(\"\\nCountries least impacted by inflation for the year 2017:\")\n",
    "    for index, row in bottom_cpi_countries.iterrows():\n",
    "        print(f\"{row['Zone']}: {row['Valeur']:.2f}\")\n",
    "       \n",
    "    return cpi_by_country"
   ]
  },
  {
   "cell_type": "code",
   "execution_count": 33,
   "id": "93e802c9",
   "metadata": {},
   "outputs": [
    {
     "name": "stdout",
     "output_type": "stream",
     "text": [
      "Countries most impacted by inflation for the year 2017:\n",
      "Venezuela (Bolivarian Republic of): 480.86\n",
      "South Sudan: 236.95\n",
      "Egypt: 38.90\n",
      "\n",
      "Countries least impacted by inflation for the year 2017:\n",
      "Fiji: -2.08\n",
      "Iceland: -2.41\n",
      "Chad: -3.83\n"
     ]
    }
   ],
   "source": [
    "cpi_country_result = cpi_by_country(consumer_price_index)"
   ]
  },
  {
   "cell_type": "code",
   "execution_count": 34,
   "id": "985df300",
   "metadata": {},
   "outputs": [],
   "source": [
    "def cpi_evolution(consumer_price_index):\n",
    "    \"\"\"\n",
    "    Calculate the evolution of the Consumer Price Index (CPI).\n",
    "    \n",
    "    Args:\n",
    "    - data (DataFrame): DataFrame containing CPI data.\n",
    "        \n",
    "    Returns:\n",
    "        DataFrame: Evolution of CPI by country.\n",
    "    \"\"\"\n",
    "    # Filter only food price inflation\n",
    "    consumer_prices = consumer_price_index[consumer_price_index[\"Objet\"] == \"Food price inflation\"]\n",
    "    \n",
    "    # Convert the \"Valeur\" column to numeric\n",
    "    consumer_prices[\"Valeur\"] = pd.to_numeric(consumer_prices[\"Valeur\"], errors=\"coerce\")\n",
    "    \n",
    "    # Group by country and year and select the value column\n",
    "    cpi_grouped = consumer_prices.groupby([\"Zone\", \"Année\"])[\"Valeur\"].first().unstack()\n",
    "    \n",
    "    # Calculate percentage change over years\n",
    "    cpi_evol = cpi_grouped.pct_change(axis='columns')\n",
    "    \n",
    "    # Calculate average evolution\n",
    "    cpi_evol[\"CPI_Average_Evolution\"] = cpi_evol.mean(axis=1)\n",
    "\n",
    "    # Reset index\n",
    "    cpi_evol = cpi_evol.reset_index()\n",
    "    \n",
    "    # Remove infinite and NaN values\n",
    "    cpi_evol.replace([np.inf, -np.inf], np.nan, inplace=True)\n",
    "\n",
    "    # Keep only the \"Change Average\" column\n",
    "    cpi_evol = cpi_evol[[\"Zone\", \"CPI_Average_Evolution\"]]\n",
    "    \n",
    "    # Sort by average evolution\n",
    "    cpi_evol = cpi_evol.sort_values(\"CPI_Average_Evolution\", ascending=False).reset_index(drop=True)\n",
    "    \n",
    "    # Extract the top and bottom countries\n",
    "    top_cpi_evol = cpi_evol.head(3)\n",
    "    \n",
    "    # Filter out NaN and inf values while selecting the bottom 3 countries\n",
    "    bottom_cpi_evol = cpi_evol[~cpi_evol[\"CPI_Average_Evolution\"].isna() & ~cpi_evol[\"CPI_Average_Evolution\"].isin([np.inf, -np.inf])].tail(3)\n",
    "    \n",
    "    # Print results\n",
    "    print(\"Countries with the highest inflation evolution:\")\n",
    "    for index, row in top_cpi_evol.iterrows():\n",
    "        print(f\"{row['Zone']}: {row['CPI_Average_Evolution']:.2f}\")\n",
    "        \n",
    "    print(\"\\nCountries with the lowest inflation evolution:\")\n",
    "    for index, row in bottom_cpi_evol.iterrows():\n",
    "        print(f\"{row['Zone']}: {row['CPI_Average_Evolution']:.2f}\")\n",
    "    \n",
    "    return cpi_evol"
   ]
  },
  {
   "cell_type": "code",
   "execution_count": 35,
   "id": "9f896eba",
   "metadata": {},
   "outputs": [
    {
     "name": "stdout",
     "output_type": "stream",
     "text": [
      "Countries with the highest inflation evolution:\n",
      "Argentina: 83.88\n",
      "Senegal: 49.94\n",
      "Malta: 18.91\n",
      "\n",
      "Countries with the lowest inflation evolution:\n",
      "Nepal: -9.68\n",
      "British Virgin Islands: -10.33\n",
      "Madagascar: -13.61\n"
     ]
    }
   ],
   "source": [
    "cpi_evolution_result = cpi_evolution(consumer_price_index)"
   ]
  },
  {
   "cell_type": "markdown",
   "id": "87827a23",
   "metadata": {},
   "source": [
    "### 3.5 Political Stability"
   ]
  },
  {
   "cell_type": "code",
   "execution_count": 36,
   "id": "a2aaf535",
   "metadata": {},
   "outputs": [],
   "source": [
    "def political_stability_by_country(political_stability):\n",
    "    \"\"\"\n",
    "    Calculate political stability by country for the year 2017.\n",
    "    \n",
    "    Args:\n",
    "    - data (DataFrame): DataFrame containing political stability data.\n",
    "        \n",
    "    Returns:\n",
    "        DataFrame: Political stability by country.\n",
    "    \"\"\"\n",
    "    # Filter the DataFrame for the year 2017\n",
    "    political_stab_2017 = political_stability[political_stability[\"Année\"] == \"2017\"]\n",
    "    \n",
    "    # Group by country and sum the political stability values\n",
    "    political_stab_by_country = political_stab_2017.groupby(\"Zone\")[\"Stabilité Politique\"].sum().reset_index()\n",
    "    \n",
    "    # Convert the 'Stabilité Politique' column to numeric\n",
    "    political_stab_by_country[\"Stabilité Politique\"] = pd.to_numeric(political_stab_by_country[\"Stabilité Politique\"], errors=\"coerce\")\n",
    "    \n",
    "    # Sort the DataFrame by political stability in descending order\n",
    "    political_stab_by_country_sorted = political_stab_by_country.sort_values(\"Stabilité Politique\", ascending=False).reset_index(drop=True)\n",
    "    \n",
    "    # Extract the top and bottom countries\n",
    "    top_stable_countries = political_stab_by_country_sorted.nlargest(3, \"Stabilité Politique\")\n",
    "    bottom_stable_countries = political_stab_by_country_sorted.nsmallest(3, \"Stabilité Politique\")\n",
    "\n",
    "    # Print results\n",
    "    print(\"Countries with the best political stability:\")\n",
    "    for index, row in top_stable_countries.iterrows():\n",
    "        print(f\"{row['Zone']}: {row['Stabilité Politique']:.2f}\")\n",
    "        \n",
    "    print(\"\\nCountries with the worst political stability:\")\n",
    "    for index, row in bottom_stable_countries.iterrows():\n",
    "        print(f\"{row['Zone']}: {row['Stabilité Politique']:.2f}\")\n",
    "    \n",
    "    return political_stab_by_country_sorted"
   ]
  },
  {
   "cell_type": "code",
   "execution_count": 37,
   "id": "38167d88",
   "metadata": {},
   "outputs": [
    {
     "name": "stdout",
     "output_type": "stream",
     "text": [
      "Countries with the best political stability:\n",
      "Greenland: 1.92\n",
      "Singapore: 1.62\n",
      "New Zealand: 1.59\n",
      "\n",
      "Countries with the worst political stability:\n",
      "Yemen: -2.94\n",
      "Afghanistan: -2.80\n",
      "Syrian Arab Republic: -2.62\n"
     ]
    }
   ],
   "source": [
    "political_stability_result = political_stability_by_country(political_stability)"
   ]
  },
  {
   "cell_type": "markdown",
   "id": "cb78e72d",
   "metadata": {},
   "source": [
    "### 3.6 Emissions"
   ]
  },
  {
   "cell_type": "code",
   "execution_count": 38,
   "id": "a74e5fe4",
   "metadata": {},
   "outputs": [],
   "source": [
    "def food_pollution_evolution(emissions_totals):\n",
    "    \"\"\"\n",
    "    Calculate the evolution of food-related pollution by country.\n",
    "    \n",
    "    Args:\n",
    "    - data (DataFrame): DataFrame containing emissions data.\n",
    "        \n",
    "    Returns:\n",
    "        DataFrame: Evolution of food-related pollution by country.\n",
    "    \"\"\"\n",
    "    # Filter emissions for food transport and retail\n",
    "    emissions = emissions_totals[(emissions_totals[\"Objet\"] == \"Food Transport\") | (emissions_totals[\"Objet\"] == \"Food Retail\")]\n",
    "    \n",
    "    # Convert 'Valeur' column to numeric\n",
    "    emissions[\"Valeur\"] = pd.to_numeric(emissions[\"Valeur\"], errors=\"coerce\")\n",
    "    \n",
    "    # Group by country and sum the emissions for each year\n",
    "    emissions_grouped = emissions.groupby([\"Zone\", \"Année\"])[\"Valeur\"].sum().unstack()\n",
    "    \n",
    "    # Calculate percentage change over years\n",
    "    emissions_evol = emissions_grouped.pct_change(axis='columns')\n",
    "    \n",
    "    # Calculate average evolution\n",
    "    emissions_evol[\"Average Evolution\"] = emissions_evol.mean(axis=1)\n",
    "    \n",
    "    # Reset index to avoid losing country names\n",
    "    emissions_evol = emissions_evol.reset_index()\n",
    "\n",
    "    # Keep only the \"Change Average\" column\n",
    "    emissions_evol = emissions_evol[[\"Zone\", \"Average Evolution\"]]\n",
    "    \n",
    "    # Sort by average evolution\n",
    "    emissions_evol_sorted = emissions_evol.sort_values(\"Average Evolution\", ascending=False)\n",
    "\n",
    "    # Extract the top and bottom countries\n",
    "    top_polluting_countries = emissions_evol_sorted.head(3)\n",
    "    bottom_polluting_countries = emissions_evol_sorted.tail(3)\n",
    "    \n",
    "    # Print results\n",
    "    print(\"Countries with the highest pollution growth:\")\n",
    "    for index, row in top_polluting_countries.iterrows():\n",
    "        print(f\"{row['Zone']}: {row['Average Evolution']:.2f}\")\n",
    "        \n",
    "    print(\"\\nCountries with the lowest pollution growth:\")\n",
    "    for index, row in bottom_polluting_countries.iterrows():\n",
    "        print(f\"{row['Zone']}: {row['Average Evolution']:.2f}\")\n",
    "    \n",
    "    return emissions_evol_sorted"
   ]
  },
  {
   "cell_type": "code",
   "execution_count": 39,
   "id": "09e52c4b",
   "metadata": {},
   "outputs": [
    {
     "name": "stdout",
     "output_type": "stream",
     "text": [
      "Countries with the highest pollution growth:\n",
      "Uganda: 0.21\n",
      "Mauritius: 0.19\n",
      "United Republic of Tanzania: 0.19\n",
      "\n",
      "Countries with the lowest pollution growth:\n",
      "Denmark: -0.01\n",
      "Micronesia (Federated States of): -0.01\n",
      "American Samoa: -0.02\n"
     ]
    }
   ],
   "source": [
    "food_pollution_result = food_pollution_evolution(emissions_totals)"
   ]
  },
  {
   "cell_type": "code",
   "execution_count": 40,
   "id": "3a0d6e20",
   "metadata": {},
   "outputs": [],
   "source": [
    "def food_pollution_per_capita(emissions_totals, population_result):\n",
    "    \"\"\"\n",
    "    Calculate food-related pollution per capita by country.\n",
    "    \n",
    "    Args:\n",
    "    - data (DataFrame): DataFrame containing emissions data.\n",
    "    - data (DataFrame): DataFrame containing population data for each country.\n",
    "        \n",
    "    Returns:\n",
    "        DataFrame: Food-related pollution per capita by country.\n",
    "    \"\"\"\n",
    "    # Filter emissions for the year 2017 and for food transport and retail\n",
    "    emissions_totals = emissions_totals[(emissions_totals[\"Année\"] == \"2017\") & \n",
    "                                        ((emissions_totals[\"Objet\"] == \"Food Transport\") | \n",
    "                                         (emissions_totals[\"Objet\"] == \"Food Retail\"))]\n",
    "    \n",
    "    # Convert 'Valeur' column to numeric\n",
    "    emissions_totals[\"Valeur\"] = pd.to_numeric(emissions_totals[\"Valeur\"], errors=\"coerce\")\n",
    "    \n",
    "    # Group emissions by country and sum the values\n",
    "    emissions_by_country = emissions_totals.groupby(\"Zone\").sum()[\"Valeur\"].reset_index()\n",
    "    \n",
    "    # Merge emissions data with population data\n",
    "    merged_data = pd.merge(emissions_by_country, population_result, on=\"Zone\", how=\"right\")\n",
    "    merged_data[\"Population\"] = pd.to_numeric(merged_data[\"Population\"], errors=\"coerce\")\n",
    "    \n",
    "    # Rename columns\n",
    "    merged_data.rename(columns={\"Valeur\": \"Emissions\"}, inplace=True)\n",
    "    \n",
    "    # Calculate emissions per capita\n",
    "    merged_data[\"Emissions_per_Capita\"] = merged_data[\"Emissions\"] / merged_data[\"Population\"]\n",
    "    \n",
    "    # Drop rows where emissions is NaN\n",
    "    merged_data.dropna(subset=[\"Emissions_per_Capita\"], inplace=True)\n",
    "    \n",
    "    # Sort by emissions per capita\n",
    "    merged_data = merged_data.sort_values(\"Emissions_per_Capita\", ascending=False).reset_index(drop=True)\n",
    "    \n",
    "    # Print top and bottom countries with highest and lowest emissions per capita\n",
    "    print(\"Countries with the highest emissions per capita:\")\n",
    "    for index, row in merged_data.head(3).iterrows():\n",
    "        print(f\"{row['Zone']}: {row['Emissions_per_Capita']:.2f}\")\n",
    "        \n",
    "    print(\"\\nCountries with the lowest emissions per capita:\")\n",
    "    for index, row in merged_data.tail(3).iterrows():\n",
    "        print(f\"{row['Zone']}: {row['Emissions_per_Capita']:.2f}\")\n",
    "    \n",
    "    return merged_data"
   ]
  },
  {
   "cell_type": "code",
   "execution_count": 41,
   "id": "b4da37b1",
   "metadata": {},
   "outputs": [
    {
     "name": "stdout",
     "output_type": "stream",
     "text": [
      "Countries with the highest emissions per capita:\n",
      "Gibraltar: 3.80\n",
      "Kuwait: 2.59\n",
      "Qatar: 2.51\n",
      "\n",
      "Countries with the lowest emissions per capita:\n",
      "Eritrea: 0.02\n",
      "Ethiopia: 0.01\n",
      "Somalia: 0.00\n"
     ]
    }
   ],
   "source": [
    "food_pollution_capita_result = food_pollution_per_capita(emissions_totals, population_result)"
   ]
  },
  {
   "cell_type": "markdown",
   "id": "f93e2963",
   "metadata": {},
   "source": [
    "## 4. Export<a class=\"anchor\" id=\"partie4\"></a>"
   ]
  },
  {
   "cell_type": "markdown",
   "id": "8ed07c2c",
   "metadata": {},
   "source": [
    "### 4.1 Population"
   ]
  },
  {
   "cell_type": "code",
   "execution_count": 42,
   "id": "a5ee7fd9",
   "metadata": {},
   "outputs": [],
   "source": [
    "def export_population_data(population_result, population_growth_result):\n",
    "    \"\"\"\n",
    "    Merge population data with growth information and export to DataFrame.\n",
    "    \n",
    "    Args:\n",
    "    - population_result (DataFrame): DataFrame containing population data.\n",
    "    - population_growth_result (DataFrame or Series): DataFrame or Series containing population growth information.\n",
    "    \n",
    "    Returns:\n",
    "        DataFrame: Merged DataFrame with relevant columns.\n",
    "    \"\"\"\n",
    "    # Reset index of Series inputs\n",
    "    if isinstance(population_growth_result, pd.Series):\n",
    "        population_growth_result = population_growth_result.reset_index(name='Change Average')\n",
    "\n",
    "    # Merge population data with growth information\n",
    "    merged_data = pd.merge(population_result, population_growth_result, how=\"left\", on=\"Zone\", suffixes=('_population', '_growth'))\n",
    "    \n",
    "    # Rename columns\n",
    "    merged_data.rename(columns={\"Valeur\": \"Population\", \"Change Average\": \"Population_Growth\"}, inplace=True)\n",
    "          \n",
    "    # Find countries that were not merged\n",
    "    missing_countries_result = set(population_growth_result[\"Zone\"]) - set(population_result[\"Zone\"])\n",
    "    missing_countries_growth = set(population_result[\"Zone\"]) - set(population_growth_result[\"Zone\"])\n",
    "    missing_countries = missing_countries_result.union(missing_countries_growth)\n",
    "    \n",
    "    # Print missing countries if they exist\n",
    "    if missing_countries:\n",
    "        print(\"Countries missed in the merge:\", missing_countries)\n",
    "    \n",
    "    return merged_data"
   ]
  },
  {
   "cell_type": "code",
   "execution_count": 43,
   "id": "cf5a6023",
   "metadata": {},
   "outputs": [
    {
     "name": "stdout",
     "output_type": "stream",
     "text": [
      "Countries missed in the merge: {'Serbia and Montenegro'}\n"
     ]
    }
   ],
   "source": [
    "export_population_result = export_population_data(population_result, population_growth_result)"
   ]
  },
  {
   "cell_type": "markdown",
   "id": "c0e0e4ec",
   "metadata": {},
   "source": [
    "### 4.2 Food Availability"
   ]
  },
  {
   "cell_type": "code",
   "execution_count": 44,
   "id": "e15d4756",
   "metadata": {},
   "outputs": [],
   "source": [
    "def export_poultry_availability_data(poultry_availability_capita_result, poultry_imports_result, poultry_production_result, poultry_domestic_result):\n",
    "    \"\"\"\n",
    "    Merge poultry availability data and export to DataFrame.\n",
    "    \n",
    "    Args:\n",
    "    - poultry_availability_capita_result (DataFrame): DataFrame containing per capita poultry availability data.\n",
    "    - poultry_imports_result (DataFrame): DataFrame containing poultry importation data by country.\n",
    "    - poultry_production_result (DataFrame): DataFrame containing poultry production data by country.\n",
    "    - poultry_domestic_result (DataFrame): DataFrame containing domestic poultry availability data by country.\n",
    "    \n",
    "    Returns:\n",
    "        DataFrame: Merged DataFrame with relevant columns.\n",
    "    \"\"\"\n",
    "    # Reset index of Series inputs\n",
    "    if isinstance(poultry_availability_capita_result, pd.Series):\n",
    "        poultry_availability_capita_result = poultry_availability_capita_result.reset_index(name='Disponibilité')\n",
    "    if isinstance(poultry_imports_result, pd.Series):\n",
    "        poultry_imports_result = poultry_imports_result.reset_index(name='Importations')\n",
    "    if isinstance(poultry_production_result, pd.Series):\n",
    "        poultry_production_result = poultry_production_result.reset_index(name='Production')\n",
    "    if isinstance(poultry_domestic_result, pd.Series):\n",
    "        poultry_domestic_result = poultry_domestic_result.reset_index(name='Domestic Availability')\n",
    "\n",
    "    # Merge poultry_availability_capita_result with poultry_imports_result\n",
    "    merged_data = pd.merge(poultry_availability_capita_result, poultry_imports_result, how=\"left\", on=\"Zone\", suffixes=('_availability', '_imports'))\n",
    "    \n",
    "    # Merge with poultry_production_result\n",
    "    merged_data = pd.merge(merged_data, poultry_production_result, how=\"left\", on=\"Zone\", suffixes=('_imports', '_production'))\n",
    "    \n",
    "    # Merge with poultry_domestic_result\n",
    "    merged_data = pd.merge(merged_data, poultry_domestic_result, how=\"left\", on=\"Zone\", suffixes=('_production', '_domestic'))\n",
    "    \n",
    "    # Rename columns\n",
    "    merged_data.rename(columns={\"Valeur_imports\": \"Importations\",\n",
    "                               \"Valeur_production\": \"Production\",\n",
    "                               \"Valeur\": \"Domestic Availability\"}, inplace=True)\n",
    "    \n",
    "    # Find missing countries from each merge\n",
    "    missing_countries_availability_imports = set(poultry_availability_capita_result[\"Zone\"]) - set(poultry_imports_result[\"Zone\"])\n",
    "    missing_countries_imports_production = set(poultry_imports_result[\"Zone\"]) - set(poultry_production_result[\"Zone\"])\n",
    "    missing_countries_production_domestic = set(poultry_production_result[\"Zone\"]) - set(poultry_domestic_result[\"Zone\"])\n",
    "    \n",
    "    # Print missing countries if they exist\n",
    "    if missing_countries_availability_imports:\n",
    "        print(\"Countries missed in the availability - imports merge:\", missing_countries_availability_imports)\n",
    "    if missing_countries_imports_production:\n",
    "        print(\"Countries missed in the imports - production merge:\", missing_countries_imports_production)\n",
    "    if missing_countries_production_domestic:\n",
    "        print(\"Countries missed in the production - domestic merge:\", missing_countries_production_domestic)\n",
    "    \n",
    "    return merged_data[[\"Zone\", \"Poultry Availability\", \"Poultry_Availability_per_Capita\", \"Importations\", \"Production\", \"Domestic Availability\"]]"
   ]
  },
  {
   "cell_type": "code",
   "execution_count": 45,
   "id": "ee7e2d0b",
   "metadata": {},
   "outputs": [
    {
     "name": "stdout",
     "output_type": "stream",
     "text": [
      "Countries missed in the availability - imports merge: {'Uzbekistan', \"Lao People's Democratic Republic\"}\n",
      "Countries missed in the imports - production merge: {'Maldives', 'Djibouti'}\n"
     ]
    }
   ],
   "source": [
    "export_poultry_result = export_poultry_availability_data(poultry_availability_capita_result, poultry_imports_result, poultry_production_result, poultry_domestic_result)"
   ]
  },
  {
   "cell_type": "markdown",
   "id": "680e5544",
   "metadata": {},
   "source": [
    "### 4.3 Exchange Rate"
   ]
  },
  {
   "cell_type": "code",
   "execution_count": 46,
   "id": "4f2d3083",
   "metadata": {},
   "outputs": [],
   "source": [
    "def export_exchange_rate_data(exchange_rate_evolution_result, exchange_rate_result):\n",
    "    \"\"\"\n",
    "    Merge exchange rate data and export to DataFrame.\n",
    "    \n",
    "    Args:\n",
    "    - exchange_rate_evolution_result (DataFrame): DataFrame containing exchange rate evolution data.\n",
    "    - exchange_rate_result (DataFrame): DataFrame containing exchange rate data by country.\n",
    "    \n",
    "    Returns:\n",
    "        DataFrame: Merged DataFrame with relevant columns.\n",
    "    \"\"\"\n",
    "    # Reset index of Series inputs\n",
    "    if isinstance(exchange_rate_evolution_result, pd.Series):\n",
    "        exchange_rate_evolution_result = exchange_rate_evolution_result.reset_index(name='Valeur')\n",
    "    if isinstance(exchange_rate_result, pd.Series):\n",
    "         exchange_rate_result =  exchange_rate_result.reset_index(name='Change Average')\n",
    " \n",
    "    # Merge exchange rate evolution data with exchange rate data by country\n",
    "    merged_data = pd.merge(exchange_rate_evolution_result, exchange_rate_result, how=\"left\", on=\"Zone\", indicator=True)\n",
    "    \n",
    "    # Drop the \"_merge\" column if it exists\n",
    "    merged_data = merged_data.drop(\"_merge\", axis=1, errors=\"ignore\")\n",
    "    \n",
    "    # Rename columns for consistency\n",
    "    merged_data.rename(columns={\"Valeur\": \"Exchange Rate\", \"Change Average\": \"Change Average\"}, inplace=True)\n",
    "    \n",
    "    # Find missing countries\n",
    "    missing_countries = set(exchange_rate_evolution_result[\"Zone\"]) - set(exchange_rate_result[\"Zone\"])\n",
    "    \n",
    "    # Print missing countries if they exist\n",
    "    if missing_countries:\n",
    "        print(\"Countries missed in the merge:\", missing_countries)\n",
    "    \n",
    "    return merged_data"
   ]
  },
  {
   "cell_type": "code",
   "execution_count": 47,
   "id": "4da9e61c",
   "metadata": {},
   "outputs": [
    {
     "name": "stdout",
     "output_type": "stream",
     "text": [
      "Countries missed in the merge: {'Netherlands Antilles', 'Venezuela (Bolivarian Republic of)', 'Sudan (former)'}\n"
     ]
    }
   ],
   "source": [
    "export_exchange_result = export_exchange_rate_data(exchange_rate_evolution_result, exchange_rate_result)"
   ]
  },
  {
   "cell_type": "markdown",
   "id": "86704863",
   "metadata": {},
   "source": [
    "### 4.4 Consumer Price Index"
   ]
  },
  {
   "cell_type": "code",
   "execution_count": 48,
   "id": "3c019db0",
   "metadata": {},
   "outputs": [],
   "source": [
    "def export_consumer_price_index_data(cpi_evolution_result, cpi_country_result):\n",
    "    \"\"\"\n",
    "    Merge consumer price index data and export to DataFrame.\n",
    "    \n",
    "    Args:\n",
    "    - cpi_evolution_result (DataFrame): DataFrame containing CPI evolution data.\n",
    "    - cpi_by_country_result (DataFrame): DataFrame containing CPI data by country.\n",
    "    \n",
    "    Returns:\n",
    "        DataFrame: Merged DataFrame with relevant columns.\n",
    "    \"\"\"\n",
    "    # Reset index of Series inputs\n",
    "    if isinstance(cpi_evolution_result, pd.Series):\n",
    "        cpi_evolution_result = cpi_evolution_result.reset_index(name='Valeur')\n",
    "    if isinstance(cpi_country_result, pd.Series):\n",
    "         exchange_rate_result = cpi_country_result.reset_index(name='Change Average')\n",
    " \n",
    "    # Merge CPI data\n",
    "    merged_data = pd.merge(cpi_evolution_result, cpi_country_result, how=\"left\", on=\"Zone\", indicator=True)\n",
    "    \n",
    "    # Drop the \"_merge\" column if it exists\n",
    "    merged_data = merged_data.drop(\"_merge\", axis=1, errors=\"ignore\")\n",
    "    \n",
    "    # Rename columns\n",
    "    merged_data.rename(columns={\"Valeur\": \"CPI\", \"Evol. Moyenne\": \"CPI Evolution\"}, inplace=True)\n",
    "    \n",
    "    # Find missing countries\n",
    "    missing_countries = set(cpi_evolution_result[\"Zone\"]) - set(cpi_country_result[\"Zone\"])\n",
    "    \n",
    "    # Print missing countries if they exist\n",
    "    if missing_countries:\n",
    "        print(\"Countries missed in the merge:\", missing_countries)\n",
    "        \n",
    "    return merged_data"
   ]
  },
  {
   "cell_type": "code",
   "execution_count": 49,
   "id": "f5b73cfc",
   "metadata": {},
   "outputs": [],
   "source": [
    "export_cpi_result = export_consumer_price_index_data(cpi_evolution_result, cpi_country_result)"
   ]
  },
  {
   "cell_type": "markdown",
   "id": "7325d4cb",
   "metadata": {},
   "source": [
    "### 4.5 Emissions"
   ]
  },
  {
   "cell_type": "code",
   "execution_count": 50,
   "id": "a5aebc08",
   "metadata": {},
   "outputs": [],
   "source": [
    "def export_emissions_data(country_coordinates, food_pollution_capita_result):\n",
    "    \"\"\"\n",
    "    Merge emissions data and export to DataFrame.\n",
    "    \n",
    "    Args:\n",
    "    - country_coordinates (DataFrame): DataFrame containing country coordinates data.\n",
    "    - food_pollution_result (DataFrame): DataFrame containing food pollution data by country.\n",
    "    \n",
    "    Returns:\n",
    "        DataFrame: Merged DataFrame with relevant columns.\n",
    "    \"\"\"\n",
    "    # Keep only the \"Km - Par rapport à la France\" column in country_coordinates\n",
    "    country_coordinates = country_coordinates[[\"Zone\", \"Km - Par rapport à la France\"]]\n",
    "    \n",
    "    # Reset index of Series inputs\n",
    "    if isinstance(food_pollution_capita_result, pd.Series):\n",
    "        food_pollution_capita_result = food_pollution_capita_result.reset_index(name='Emissions')\n",
    "\n",
    "    # Merge emissions data\n",
    "    merged_data = pd.merge(country_coordinates, food_pollution_capita_result, how=\"right\", on=\"Zone\", indicator=True)\n",
    "    \n",
    "    # Drop the \"_merge\" column if it exists\n",
    "    merged_data = merged_data.drop(\"_merge\", axis=1, errors=\"ignore\")\n",
    "    \n",
    "    # Find missing countries\n",
    "    missing_countries = set(country_coordinates[\"Zone\"]) - set(food_pollution_capita_result[\"Zone\"])\n",
    "    \n",
    "    # Print missing countries if they exist\n",
    "    if missing_countries:\n",
    "        print(\"Countries missed in the merge:\", missing_countries)\n",
    "        \n",
    "    return merged_data"
   ]
  },
  {
   "cell_type": "code",
   "execution_count": 51,
   "id": "5abca10a",
   "metadata": {},
   "outputs": [
    {
     "name": "stdout",
     "output_type": "stream",
     "text": [
      "Countries missed in the merge: {'Burkina\\xa0Faso', 'British Indian Ocean Territory', 'Pitcairn Islands', 'United States Minor Outlying Islands', 'Heard and McDonald Islands et Territory of Heard Island and McDonald Islands', 'French Southern and Antarctic Lands', 'Western Sahara', 'Cocos (Keeling) Islands', 'Kosovo', 'Guam', 'Tokelau', 'Guernesey', 'Antarctica', 'Svalbard and Jan Mayen', 'Bouvet Island', 'Saint-Marin', 'South Georgia and the South Sandwich Islands', 'Netherlands Antilles', 'Norfolk Island', 'Christmas Island', 'Jersey'}\n"
     ]
    }
   ],
   "source": [
    "export_emissions_result = export_emissions_data(country_coordinates, food_pollution_capita_result)"
   ]
  },
  {
   "cell_type": "markdown",
   "id": "ac190284",
   "metadata": {},
   "source": [
    "## 5. Final Dataset"
   ]
  },
  {
   "cell_type": "code",
   "execution_count": 52,
   "id": "30c93259",
   "metadata": {},
   "outputs": [
    {
     "name": "stdout",
     "output_type": "stream",
     "text": [
      "We have 11 countries without data on pollutant emissions.\n",
      "                            Zone Population  Population_Growth  Distance  \\\n",
      "37         Caribbean Netherlands     25.401           0.022598       NaN   \n",
      "41               Channel Islands    168.665           0.007729       NaN   \n",
      "46  Collectivity of Saint Martin      36.56          -0.000616       NaN   \n",
      "\n",
      "    Emissions  Emissions_per_Capita  \n",
      "37        NaN                   NaN  \n",
      "41        NaN                   NaN  \n",
      "46        NaN                   NaN  \n",
      "Population Emissions shape: (236, 6)\n"
     ]
    }
   ],
   "source": [
    "# Population + Emissions\n",
    "population_emissions = pd.merge(export_population_result, export_emissions_result, how=\"left\", on=\"Zone\", indicator=True)\n",
    "\n",
    "# Rename columns for clarity\n",
    "population_emissions.rename(columns={\"Km - Par rapport à la France\": \"Distance\", \"Average Evolution\": \"Emissions_per_Capita\", \"Population_x\": \"Population\"}, inplace=True)\n",
    "\n",
    "# Drop one of the Population columns\n",
    "population_emissions.drop(\"Population_y\", axis=1, inplace=True)\n",
    "\n",
    "# Drop the \"_merge\" column if it exists\n",
    "population_emissions.drop(\"_merge\", axis=1, inplace=True)\n",
    "\n",
    "# Find countries without emissions data\n",
    "missing_emissions_data = population_emissions[population_emissions[\"Emissions\"].isnull()]\n",
    "num_missing_countries = missing_emissions_data.shape[0]\n",
    "print(f\"We have {num_missing_countries} countries without data on pollutant emissions.\")\n",
    "print(missing_emissions_data.head(3))\n",
    "print('Population Emissions shape:', population_emissions.shape)"
   ]
  },
  {
   "cell_type": "code",
   "execution_count": 53,
   "id": "b5034ad9",
   "metadata": {},
   "outputs": [
    {
     "name": "stdout",
     "output_type": "stream",
     "text": [
      "We have 17 countries without exchange rate data.\n",
      "                     Zone Population  Population_Growth      Distance  \\\n",
      "3          American Samoa      55.62          -0.002280  16390.040913   \n",
      "37  Caribbean Netherlands     25.401           0.022598           NaN   \n",
      "41        Channel Islands    168.665           0.007729           NaN   \n",
      "\n",
      "    Emissions  Emissions_per_Capita  Exchange_Rate_Evolution  Exchange Rate  \\\n",
      "3     27.1113              0.487438                      NaN            NaN   \n",
      "37        NaN                   NaN                      NaN            NaN   \n",
      "41        NaN                   NaN                      NaN            NaN   \n",
      "\n",
      "    Compared_with_EUR  \n",
      "3                 NaN  \n",
      "37                NaN  \n",
      "41                NaN  \n",
      "Population Emissions Exchange Rate shape: (236, 9)\n"
     ]
    }
   ],
   "source": [
    "# Population + Emissions data with Exchange Rate data\n",
    "population_emissions_change = pd.merge(population_emissions, export_exchange_result, how=\"left\", on=\"Zone\", indicator=True)\n",
    "\n",
    "# Rename columns for clarity\n",
    "population_emissions_change.rename(columns={\"Change Average\": \"Exchange_Rate_Evolution\"}, inplace=True)\n",
    "\n",
    "# Drop the \"_merge\" column\n",
    "population_emissions_change.drop(\"_merge\", axis=1, inplace=True)\n",
    "\n",
    "# Find countries without exchange rate data\n",
    "missing_exchange_rate_data = population_emissions_change.loc[population_emissions_change[\"Exchange Rate\"].isnull()]\n",
    "num_missing_countries = missing_exchange_rate_data.shape[0]\n",
    "print(f\"We have {num_missing_countries} countries without exchange rate data.\")\n",
    "print(missing_exchange_rate_data.head(3))\n",
    "print('Population Emissions Exchange Rate shape:', population_emissions_change.shape)"
   ]
  },
  {
   "cell_type": "code",
   "execution_count": 54,
   "id": "0698d311",
   "metadata": {},
   "outputs": [
    {
     "name": "stdout",
     "output_type": "stream",
     "text": [
      "We have 35 countries without CPI data.\n",
      "                        Zone Population  Population_Growth      Distance  \\\n",
      "3             American Samoa      55.62          -0.002280  16390.040913   \n",
      "37     Caribbean Netherlands     25.401           0.022598           NaN   \n",
      "39  Central African Republic   4596.023           0.013911   4744.553501   \n",
      "\n",
      "    Emissions  Emissions_per_Capita  Exchange_Rate_Evolution  Exchange Rate  \\\n",
      "3     27.1113              0.487438                      NaN            NaN   \n",
      "37        NaN                   NaN                      NaN            NaN   \n",
      "39   466.1214              0.101418                -0.010665      580.65675   \n",
      "\n",
      "    Compared_with_EUR  CPI_Average_Evolution  CPI  \n",
      "3                 NaN                    NaN  NaN  \n",
      "37                NaN                    NaN  NaN  \n",
      "39          534.20421                    NaN  NaN  \n",
      "Population Emissions Exchange Rate CPI shape: (236, 11)\n"
     ]
    }
   ],
   "source": [
    "# Merge CPI data\n",
    "pop_emissions_change_cpi = pd.merge(population_emissions_change, export_cpi_result, how=\"left\", on=\"Zone\", indicator=True)\n",
    "\n",
    "# Rename columns for clarity\n",
    "pop_emissions_change_cpi.rename(columns={\"Evol. Moyenne\": \"CPI_Evolution\"}, inplace=True)\n",
    "\n",
    "# Drop the \"_merge\" column\n",
    "pop_emissions_change_cpi.drop(\"_merge\", axis=1, inplace=True)\n",
    "\n",
    "# Find countries without CPI data\n",
    "missing_cpi_data = pop_emissions_change_cpi.loc[pop_emissions_change_cpi[\"CPI\"].isnull()]\n",
    "num_missing_countries = missing_cpi_data.shape[0]\n",
    "print(f\"We have {num_missing_countries} countries without CPI data.\")\n",
    "print(missing_cpi_data.head(3))\n",
    "print('Population Emissions Exchange Rate CPI shape:', pop_emissions_change_cpi.shape)"
   ]
  },
  {
   "cell_type": "code",
   "execution_count": 55,
   "id": "d35cc876",
   "metadata": {},
   "outputs": [
    {
     "name": "stdout",
     "output_type": "stream",
     "text": [
      "We have 38 countries without political stability data.\n",
      "                      Zone Population  Population_Growth     Distance  \\\n",
      "6                 Anguilla     14.584           0.015087  6674.510099   \n",
      "10                   Aruba    105.366           0.008547  7644.973573   \n",
      "28  British Virgin Islands     29.577           0.021615  6780.265285   \n",
      "\n",
      "    Emissions  Emissions_per_Capita  Exchange_Rate_Evolution  Exchange Rate  \\\n",
      "6     20.5417              1.408509                      0.0           2.70   \n",
      "10   233.0529              2.211842                      0.0           1.79   \n",
      "28    22.9247              0.775085                      0.0           1.00   \n",
      "\n",
      "    Compared_with_EUR  CPI_Average_Evolution       CPI  Political Stability  \n",
      "6              2.4840              -0.241167  1.203278                  NaN  \n",
      "10             1.6468              -1.294417 -1.999478                  NaN  \n",
      "28             0.9200             -10.334447 -1.825296                  NaN  \n",
      "Population Emissions Exchange Rate CPI Political Stability shape: (236, 12)\n"
     ]
    }
   ],
   "source": [
    "# Merge Political Stability data\n",
    "pop_em_change_cpi_pol_stab = pd.merge(pop_emissions_change_cpi, political_stability_result, how=\"left\", on=\"Zone\", indicator=True)\n",
    "\n",
    "# Rename columns for clarity\n",
    "pop_em_change_cpi_pol_stab.rename(columns={\"Stabilité Politique\": \"Political Stability\"}, inplace=True)\n",
    "\n",
    "# Drop the \"_merge\" column\n",
    "pop_em_change_cpi_pol_stab.drop(\"_merge\", axis=1, inplace=True)\n",
    "\n",
    "# Find countries without political stability data\n",
    "missing_stability_data = pop_em_change_cpi_pol_stab.loc[pop_em_change_cpi_pol_stab[\"Political Stability\"].isnull()]\n",
    "num_missing_countries = missing_stability_data.shape[0]\n",
    "print(f\"We have {num_missing_countries} countries without political stability data.\")\n",
    "print(missing_stability_data.head(3))\n",
    "print('Population Emissions Exchange Rate CPI Political Stability shape:', pop_em_change_cpi_pol_stab.shape)"
   ]
  },
  {
   "cell_type": "code",
   "execution_count": 56,
   "id": "a539730e",
   "metadata": {
    "scrolled": false
   },
   "outputs": [
    {
     "name": "stdout",
     "output_type": "stream",
     "text": [
      "We have 64 countries without food availability data.\n",
      "                 Zone Population  Population_Growth     Distance  Emissions  \\\n",
      "188        Seychelles     96.418           0.010137  7696.434420    72.2679   \n",
      "176  Saint Barthélemy      9.784           0.007084          NaN        NaN   \n",
      "175           Réunion    876.134           0.010088  9186.545694   323.0959   \n",
      "\n",
      "     Emissions_per_Capita  Exchange_Rate_Evolution  Exchange Rate  \\\n",
      "188              0.749527                 0.059889      13.647842   \n",
      "176                   NaN                      NaN            NaN   \n",
      "175              0.368775                -0.010665       0.885206   \n",
      "\n",
      "     Compared_with_EUR  CPI_Average_Evolution       CPI  Political Stability  \\\n",
      "188          12.556014               4.787759  0.349697                 0.79   \n",
      "176                NaN                    NaN       NaN                  NaN   \n",
      "175           0.814389                    NaN  0.920770                  NaN   \n",
      "\n",
      "     Poultry Availability  Poultry_Availability_per_Capita  Importations  \\\n",
      "188                   NaN                              NaN           NaN   \n",
      "176                   NaN                              NaN           NaN   \n",
      "175                   NaN                              NaN           NaN   \n",
      "\n",
      "     Production  Domestic Availability  \n",
      "188         NaN                    NaN  \n",
      "176         NaN                    NaN  \n",
      "175         NaN                    NaN  \n",
      "Merged dataframe shape: (236, 17)\n"
     ]
    }
   ],
   "source": [
    "# Merge Availability Data\n",
    "merged_df = pd.merge(pop_em_change_cpi_pol_stab, export_poultry_result, how=\"left\", on=\"Zone\", indicator=True)\n",
    "\n",
    "# Drop the \"_merge\" column\n",
    "merged_df.drop(\"_merge\", axis=1, inplace=True)\n",
    "\n",
    "# Print countries without availability data\n",
    "missing_availability = merged_df.loc[merged_df[\"Poultry Availability\"].isnull()]\n",
    "print(f\"We have {missing_availability.shape[0]} countries without food availability data.\")\n",
    "print(missing_availability.sort_values(\"Population\", ascending=False).head(3))\n",
    "print('Merged dataframe shape:', merged_df.shape)"
   ]
  },
  {
   "cell_type": "code",
   "execution_count": 57,
   "id": "5495ea5c",
   "metadata": {},
   "outputs": [
    {
     "name": "stdout",
     "output_type": "stream",
     "text": [
      "Number of countries after removing missing availability data: 172\n"
     ]
    }
   ],
   "source": [
    "df = merged_df[merged_df['Poultry Availability'].notna()]\n",
    "print(\"Number of countries after removing missing availability data:\", df.shape[0])"
   ]
  },
  {
   "cell_type": "code",
   "execution_count": 58,
   "id": "d7826780",
   "metadata": {},
   "outputs": [
    {
     "name": "stdout",
     "output_type": "stream",
     "text": [
      "Format of the dataframe before conversion:\n",
      "<class 'pandas.core.frame.DataFrame'>\n",
      "Int64Index: 172 entries, 0 to 235\n",
      "Data columns (total 17 columns):\n",
      " #   Column                           Non-Null Count  Dtype  \n",
      "---  ------                           --------------  -----  \n",
      " 0   Zone                             172 non-null    object \n",
      " 1   Population                       172 non-null    object \n",
      " 2   Population_Growth                172 non-null    float64\n",
      " 3   Distance                         171 non-null    float64\n",
      " 4   Emissions                        172 non-null    float64\n",
      " 5   Emissions_per_Capita             172 non-null    float64\n",
      " 6   Exchange_Rate_Evolution          172 non-null    float64\n",
      " 7   Exchange Rate                    171 non-null    float64\n",
      " 8   Compared_with_EUR                171 non-null    float64\n",
      " 9   CPI_Average_Evolution            161 non-null    float64\n",
      " 10  CPI                              166 non-null    float64\n",
      " 11  Political Stability              170 non-null    float64\n",
      " 12  Poultry Availability             172 non-null    float64\n",
      " 13  Poultry_Availability_per_Capita  172 non-null    float64\n",
      " 14  Importations                     170 non-null    float64\n",
      " 15  Production                       168 non-null    float64\n",
      " 16  Domestic Availability            170 non-null    float64\n",
      "dtypes: float64(15), object(2)\n",
      "memory usage: 24.2+ KB\n",
      "None\n",
      "\n",
      "Format of the dataframe after conversion:\n",
      "<class 'pandas.core.frame.DataFrame'>\n",
      "Int64Index: 172 entries, 0 to 235\n",
      "Data columns (total 17 columns):\n",
      " #   Column                           Non-Null Count  Dtype  \n",
      "---  ------                           --------------  -----  \n",
      " 0   Zone                             172 non-null    object \n",
      " 1   Population                       172 non-null    float64\n",
      " 2   Population_Growth                172 non-null    float64\n",
      " 3   Distance                         171 non-null    float64\n",
      " 4   Emissions                        172 non-null    float64\n",
      " 5   Emissions_per_Capita             172 non-null    float64\n",
      " 6   Exchange_Rate_Evolution          172 non-null    float64\n",
      " 7   Exchange Rate                    171 non-null    float64\n",
      " 8   Compared_with_EUR                171 non-null    float64\n",
      " 9   CPI_Average_Evolution            161 non-null    float64\n",
      " 10  CPI                              166 non-null    float64\n",
      " 11  Political Stability              170 non-null    float64\n",
      " 12  Poultry Availability             172 non-null    float64\n",
      " 13  Poultry_Availability_per_Capita  172 non-null    float64\n",
      " 14  Importations                     170 non-null    float64\n",
      " 15  Production                       168 non-null    float64\n",
      " 16  Domestic Availability            170 non-null    float64\n",
      "dtypes: float64(16), object(1)\n",
      "memory usage: 24.2+ KB\n",
      "None\n"
     ]
    }
   ],
   "source": [
    "# Convert 'Population' to float\n",
    "print('Format of the dataframe before conversion:')\n",
    "print(df.info())\n",
    "\n",
    "df['Population'] = pd.to_numeric(df['Population'], errors='coerce')\n",
    "\n",
    "# Print the information about the dataframe after conversion\n",
    "print('\\nFormat of the dataframe after conversion:')\n",
    "print(df.info())"
   ]
  },
  {
   "cell_type": "code",
   "execution_count": 59,
   "id": "cda9920b",
   "metadata": {},
   "outputs": [],
   "source": [
    "def treat_outliers(df):\n",
    "    # Check for non-numeric columns\n",
    "    non_numeric_columns = df.select_dtypes(exclude=['float64', 'int64']).columns.tolist()\n",
    "    if non_numeric_columns:\n",
    "        print(f\"Non-numeric columns detected: {', '.join(non_numeric_columns)}. They will be excluded from outlier treatment.\")\n",
    "    \n",
    "    # Treat outliers only for 'Exchange_Rate_Evolution' and 'CPI' columns\n",
    "    for column in ['Exchange_Rate_Evolution', 'CPI']:\n",
    "        if column in df.columns:\n",
    "            q1 = df[column].quantile(0.25)\n",
    "            q3 = df[column].quantile(0.75)\n",
    "            iqr = q3 - q1\n",
    "            lower_bound = q1 - 1.5 * iqr\n",
    "            upper_bound = q3 + 1.5 * iqr\n",
    "            outliers = df[(df[column] < lower_bound) | (df[column] > upper_bound)][column]\n",
    "            if not outliers.empty:\n",
    "                median_value = df[column].median()\n",
    "                df.loc[outliers.index, column] = median_value"
   ]
  },
  {
   "cell_type": "code",
   "execution_count": 60,
   "id": "41113e2a",
   "metadata": {},
   "outputs": [
    {
     "name": "stdout",
     "output_type": "stream",
     "text": [
      "Non-numeric columns detected: Zone. They will be excluded from outlier treatment.\n"
     ]
    }
   ],
   "source": [
    "# Assuming df is your DataFrame\n",
    "treat_outliers(df)"
   ]
  },
  {
   "cell_type": "code",
   "execution_count": 61,
   "id": "7d6baafe",
   "metadata": {},
   "outputs": [],
   "source": [
    "def treat_missing_values(df):\n",
    "    # Calculate the percentage of missing values in the dataset\n",
    "    missing_values_percentage = df.isna().mean()\n",
    "    print('Percentage of missing values in the dataset:')\n",
    "    print(missing_values_percentage)\n",
    "    \n",
    "    # Treat missing values in CPI_Average_Evolution and CPI columns\n",
    "    mean_cpi_evolution = df['CPI_Average_Evolution'].mean()\n",
    "    mean_cpi = df['CPI'].mean()\n",
    "    df['CPI_Average_Evolution'].fillna(mean_cpi_evolution, inplace=True)\n",
    "    df['CPI'].fillna(mean_cpi, inplace=True)\n",
    "    \n",
    "    # Replace remaining missing values with 0\n",
    "    df.fillna(0, inplace=True)\n",
    "    \n",
    "    # Check the percentage of missing values again after replacing them with 0\n",
    "    print('\\nPercentage of missing values after replacing with 0:')\n",
    "    print(df.isna().mean())"
   ]
  },
  {
   "cell_type": "code",
   "execution_count": 62,
   "id": "62eabad1",
   "metadata": {},
   "outputs": [
    {
     "name": "stdout",
     "output_type": "stream",
     "text": [
      "Percentage of missing values in the dataset:\n",
      "Zone                               0.000000\n",
      "Population                         0.000000\n",
      "Population_Growth                  0.000000\n",
      "Distance                           0.005814\n",
      "Emissions                          0.000000\n",
      "Emissions_per_Capita               0.000000\n",
      "Exchange_Rate_Evolution            0.000000\n",
      "Exchange Rate                      0.005814\n",
      "Compared_with_EUR                  0.005814\n",
      "CPI_Average_Evolution              0.063953\n",
      "CPI                                0.034884\n",
      "Political Stability                0.011628\n",
      "Poultry Availability               0.000000\n",
      "Poultry_Availability_per_Capita    0.000000\n",
      "Importations                       0.011628\n",
      "Production                         0.023256\n",
      "Domestic Availability              0.011628\n",
      "dtype: float64\n",
      "\n",
      "Percentage of missing values after replacing with 0:\n",
      "Zone                               0.0\n",
      "Population                         0.0\n",
      "Population_Growth                  0.0\n",
      "Distance                           0.0\n",
      "Emissions                          0.0\n",
      "Emissions_per_Capita               0.0\n",
      "Exchange_Rate_Evolution            0.0\n",
      "Exchange Rate                      0.0\n",
      "Compared_with_EUR                  0.0\n",
      "CPI_Average_Evolution              0.0\n",
      "CPI                                0.0\n",
      "Political Stability                0.0\n",
      "Poultry Availability               0.0\n",
      "Poultry_Availability_per_Capita    0.0\n",
      "Importations                       0.0\n",
      "Production                         0.0\n",
      "Domestic Availability              0.0\n",
      "dtype: float64\n"
     ]
    }
   ],
   "source": [
    "treat_missing_values(df)"
   ]
  },
  {
   "cell_type": "code",
   "execution_count": 63,
   "id": "686b868e",
   "metadata": {},
   "outputs": [
    {
     "data": {
      "text/html": [
       "<div>\n",
       "<style scoped>\n",
       "    .dataframe tbody tr th:only-of-type {\n",
       "        vertical-align: middle;\n",
       "    }\n",
       "\n",
       "    .dataframe tbody tr th {\n",
       "        vertical-align: top;\n",
       "    }\n",
       "\n",
       "    .dataframe thead th {\n",
       "        text-align: right;\n",
       "    }\n",
       "</style>\n",
       "<table border=\"1\" class=\"dataframe\">\n",
       "  <thead>\n",
       "    <tr style=\"text-align: right;\">\n",
       "      <th></th>\n",
       "      <th>Zone</th>\n",
       "      <th>Population</th>\n",
       "      <th>Population_Growth</th>\n",
       "      <th>Emissions</th>\n",
       "      <th>Emissions_per_Capita</th>\n",
       "      <th>Distance</th>\n",
       "      <th>Compared_with_EUR</th>\n",
       "      <th>Exchange_Rate_Evolution</th>\n",
       "      <th>CPI</th>\n",
       "      <th>CPI_Average_Evolution</th>\n",
       "      <th>Political Stability</th>\n",
       "      <th>Poultry Availability</th>\n",
       "      <th>Poultry_Availability_per_Capita</th>\n",
       "      <th>Importations</th>\n",
       "      <th>Production</th>\n",
       "      <th>Domestic Availability</th>\n",
       "    </tr>\n",
       "  </thead>\n",
       "  <tbody>\n",
       "    <tr>\n",
       "      <th>0</th>\n",
       "      <td>Afghanistan</td>\n",
       "      <td>36296.113</td>\n",
       "      <td>0.032864</td>\n",
       "      <td>1646.2889</td>\n",
       "      <td>0.045357</td>\n",
       "      <td>5585.579825</td>\n",
       "      <td>62.584752</td>\n",
       "      <td>-0.032702</td>\n",
       "      <td>6.957529</td>\n",
       "      <td>0.132833</td>\n",
       "      <td>-2.80</td>\n",
       "      <td>5.0</td>\n",
       "      <td>0.000138</td>\n",
       "      <td>29.0</td>\n",
       "      <td>28.0</td>\n",
       "      <td>57.0</td>\n",
       "    </tr>\n",
       "    <tr>\n",
       "      <th>1</th>\n",
       "      <td>Albania</td>\n",
       "      <td>2884.169</td>\n",
       "      <td>-0.004542</td>\n",
       "      <td>906.7435</td>\n",
       "      <td>0.314386</td>\n",
       "      <td>1549.151949</td>\n",
       "      <td>109.572000</td>\n",
       "      <td>-0.012120</td>\n",
       "      <td>3.924577</td>\n",
       "      <td>-4.817490</td>\n",
       "      <td>0.38</td>\n",
       "      <td>85.0</td>\n",
       "      <td>0.029471</td>\n",
       "      <td>38.0</td>\n",
       "      <td>13.0</td>\n",
       "      <td>47.0</td>\n",
       "    </tr>\n",
       "    <tr>\n",
       "      <th>2</th>\n",
       "      <td>Algeria</td>\n",
       "      <td>41389.189</td>\n",
       "      <td>0.017248</td>\n",
       "      <td>11062.8003</td>\n",
       "      <td>0.267287</td>\n",
       "      <td>2019.778162</td>\n",
       "      <td>102.095175</td>\n",
       "      <td>0.027047</td>\n",
       "      <td>5.040496</td>\n",
       "      <td>-0.524376</td>\n",
       "      <td>-0.92</td>\n",
       "      <td>22.0</td>\n",
       "      <td>0.000532</td>\n",
       "      <td>2.0</td>\n",
       "      <td>275.0</td>\n",
       "      <td>277.0</td>\n",
       "    </tr>\n",
       "  </tbody>\n",
       "</table>\n",
       "</div>"
      ],
      "text/plain": [
       "          Zone  Population  Population_Growth   Emissions  \\\n",
       "0  Afghanistan   36296.113           0.032864   1646.2889   \n",
       "1      Albania    2884.169          -0.004542    906.7435   \n",
       "2      Algeria   41389.189           0.017248  11062.8003   \n",
       "\n",
       "   Emissions_per_Capita     Distance  Compared_with_EUR  \\\n",
       "0              0.045357  5585.579825          62.584752   \n",
       "1              0.314386  1549.151949         109.572000   \n",
       "2              0.267287  2019.778162         102.095175   \n",
       "\n",
       "   Exchange_Rate_Evolution       CPI  CPI_Average_Evolution  \\\n",
       "0                -0.032702  6.957529               0.132833   \n",
       "1                -0.012120  3.924577              -4.817490   \n",
       "2                 0.027047  5.040496              -0.524376   \n",
       "\n",
       "   Political Stability  Poultry Availability  Poultry_Availability_per_Capita  \\\n",
       "0                -2.80                   5.0                         0.000138   \n",
       "1                 0.38                  85.0                         0.029471   \n",
       "2                -0.92                  22.0                         0.000532   \n",
       "\n",
       "   Importations  Production  Domestic Availability  \n",
       "0          29.0        28.0                   57.0  \n",
       "1          38.0        13.0                   47.0  \n",
       "2           2.0       275.0                  277.0  "
      ]
     },
     "metadata": {},
     "output_type": "display_data"
    }
   ],
   "source": [
    "df = df[[\"Zone\", \"Population\", \"Population_Growth\", \"Emissions\", \"Emissions_per_Capita\", \"Distance\", \"Compared_with_EUR\", \"Exchange_Rate_Evolution\", \"CPI\", \"CPI_Average_Evolution\", \"Political Stability\", \"Poultry Availability\", \"Poultry_Availability_per_Capita\", \"Importations\", \"Production\", \"Domestic Availability\"]]\n",
    "df.to_csv(\"df_for_cluster.csv\", index=False)"
   ]
  }
 ],
 "metadata": {
  "kernelspec": {
   "display_name": "Python 3 (ipykernel)",
   "language": "python",
   "name": "python3"
  },
  "language_info": {
   "codemirror_mode": {
    "name": "ipython",
    "version": 3
   },
   "file_extension": ".py",
   "mimetype": "text/x-python",
   "name": "python",
   "nbconvert_exporter": "python",
   "pygments_lexer": "ipython3",
   "version": "3.9.13"
  }
 },
 "nbformat": 4,
 "nbformat_minor": 5
}
